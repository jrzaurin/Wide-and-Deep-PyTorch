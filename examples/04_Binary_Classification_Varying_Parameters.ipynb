{
 "cells": [
  {
   "cell_type": "markdown",
   "metadata": {},
   "source": [
    "## Binary Classification with different optimizers, schedulers, etc.\n",
    "\n",
    "In this notebook we will use the Adult Census dataset. Download the data from [here](https://www.kaggle.com/wenruliu/adult-income-dataset/downloads/adult.csv/2)."
   ]
  },
  {
   "cell_type": "code",
   "execution_count": 1,
   "metadata": {},
   "outputs": [
    {
     "name": "stderr",
     "output_type": "stream",
     "text": [
      "/Users/javier/.pyenv/versions/3.7.7/lib/python3.7/importlib/_bootstrap.py:219: RuntimeWarning: numpy.ufunc size changed, may indicate binary incompatibility. Expected 192 from C header, got 216 from PyObject\n",
      "  return f(*args, **kwds)\n"
     ]
    }
   ],
   "source": [
    "import numpy as np\n",
    "import pandas as pd\n",
    "import torch\n",
    "\n",
    "from pytorch_widedeep import Trainer\n",
    "from pytorch_widedeep.preprocessing import WidePreprocessor, TabPreprocessor\n",
    "from pytorch_widedeep.models import Wide, TabMlp, WideDeep\n",
    "from pytorch_widedeep.metrics import Accuracy, Recall"
   ]
  },
  {
   "cell_type": "code",
   "execution_count": 2,
   "metadata": {},
   "outputs": [
    {
     "data": {
      "text/html": [
       "<div>\n",
       "<style scoped>\n",
       "    .dataframe tbody tr th:only-of-type {\n",
       "        vertical-align: middle;\n",
       "    }\n",
       "\n",
       "    .dataframe tbody tr th {\n",
       "        vertical-align: top;\n",
       "    }\n",
       "\n",
       "    .dataframe thead th {\n",
       "        text-align: right;\n",
       "    }\n",
       "</style>\n",
       "<table border=\"1\" class=\"dataframe\">\n",
       "  <thead>\n",
       "    <tr style=\"text-align: right;\">\n",
       "      <th></th>\n",
       "      <th>age</th>\n",
       "      <th>workclass</th>\n",
       "      <th>fnlwgt</th>\n",
       "      <th>education</th>\n",
       "      <th>educational-num</th>\n",
       "      <th>marital-status</th>\n",
       "      <th>occupation</th>\n",
       "      <th>relationship</th>\n",
       "      <th>race</th>\n",
       "      <th>gender</th>\n",
       "      <th>capital-gain</th>\n",
       "      <th>capital-loss</th>\n",
       "      <th>hours-per-week</th>\n",
       "      <th>native-country</th>\n",
       "      <th>income</th>\n",
       "    </tr>\n",
       "  </thead>\n",
       "  <tbody>\n",
       "    <tr>\n",
       "      <th>0</th>\n",
       "      <td>25</td>\n",
       "      <td>Private</td>\n",
       "      <td>226802</td>\n",
       "      <td>11th</td>\n",
       "      <td>7</td>\n",
       "      <td>Never-married</td>\n",
       "      <td>Machine-op-inspct</td>\n",
       "      <td>Own-child</td>\n",
       "      <td>Black</td>\n",
       "      <td>Male</td>\n",
       "      <td>0</td>\n",
       "      <td>0</td>\n",
       "      <td>40</td>\n",
       "      <td>United-States</td>\n",
       "      <td>&lt;=50K</td>\n",
       "    </tr>\n",
       "    <tr>\n",
       "      <th>1</th>\n",
       "      <td>38</td>\n",
       "      <td>Private</td>\n",
       "      <td>89814</td>\n",
       "      <td>HS-grad</td>\n",
       "      <td>9</td>\n",
       "      <td>Married-civ-spouse</td>\n",
       "      <td>Farming-fishing</td>\n",
       "      <td>Husband</td>\n",
       "      <td>White</td>\n",
       "      <td>Male</td>\n",
       "      <td>0</td>\n",
       "      <td>0</td>\n",
       "      <td>50</td>\n",
       "      <td>United-States</td>\n",
       "      <td>&lt;=50K</td>\n",
       "    </tr>\n",
       "    <tr>\n",
       "      <th>2</th>\n",
       "      <td>28</td>\n",
       "      <td>Local-gov</td>\n",
       "      <td>336951</td>\n",
       "      <td>Assoc-acdm</td>\n",
       "      <td>12</td>\n",
       "      <td>Married-civ-spouse</td>\n",
       "      <td>Protective-serv</td>\n",
       "      <td>Husband</td>\n",
       "      <td>White</td>\n",
       "      <td>Male</td>\n",
       "      <td>0</td>\n",
       "      <td>0</td>\n",
       "      <td>40</td>\n",
       "      <td>United-States</td>\n",
       "      <td>&gt;50K</td>\n",
       "    </tr>\n",
       "    <tr>\n",
       "      <th>3</th>\n",
       "      <td>44</td>\n",
       "      <td>Private</td>\n",
       "      <td>160323</td>\n",
       "      <td>Some-college</td>\n",
       "      <td>10</td>\n",
       "      <td>Married-civ-spouse</td>\n",
       "      <td>Machine-op-inspct</td>\n",
       "      <td>Husband</td>\n",
       "      <td>Black</td>\n",
       "      <td>Male</td>\n",
       "      <td>7688</td>\n",
       "      <td>0</td>\n",
       "      <td>40</td>\n",
       "      <td>United-States</td>\n",
       "      <td>&gt;50K</td>\n",
       "    </tr>\n",
       "    <tr>\n",
       "      <th>4</th>\n",
       "      <td>18</td>\n",
       "      <td>?</td>\n",
       "      <td>103497</td>\n",
       "      <td>Some-college</td>\n",
       "      <td>10</td>\n",
       "      <td>Never-married</td>\n",
       "      <td>?</td>\n",
       "      <td>Own-child</td>\n",
       "      <td>White</td>\n",
       "      <td>Female</td>\n",
       "      <td>0</td>\n",
       "      <td>0</td>\n",
       "      <td>30</td>\n",
       "      <td>United-States</td>\n",
       "      <td>&lt;=50K</td>\n",
       "    </tr>\n",
       "  </tbody>\n",
       "</table>\n",
       "</div>"
      ],
      "text/plain": [
       "   age  workclass  fnlwgt     education  educational-num      marital-status  \\\n",
       "0   25    Private  226802          11th                7       Never-married   \n",
       "1   38    Private   89814       HS-grad                9  Married-civ-spouse   \n",
       "2   28  Local-gov  336951    Assoc-acdm               12  Married-civ-spouse   \n",
       "3   44    Private  160323  Some-college               10  Married-civ-spouse   \n",
       "4   18          ?  103497  Some-college               10       Never-married   \n",
       "\n",
       "          occupation relationship   race  gender  capital-gain  capital-loss  \\\n",
       "0  Machine-op-inspct    Own-child  Black    Male             0             0   \n",
       "1    Farming-fishing      Husband  White    Male             0             0   \n",
       "2    Protective-serv      Husband  White    Male             0             0   \n",
       "3  Machine-op-inspct      Husband  Black    Male          7688             0   \n",
       "4                  ?    Own-child  White  Female             0             0   \n",
       "\n",
       "   hours-per-week native-country income  \n",
       "0              40  United-States  <=50K  \n",
       "1              50  United-States  <=50K  \n",
       "2              40  United-States   >50K  \n",
       "3              40  United-States   >50K  \n",
       "4              30  United-States  <=50K  "
      ]
     },
     "execution_count": 2,
     "metadata": {},
     "output_type": "execute_result"
    }
   ],
   "source": [
    "df = pd.read_csv('data/adult/adult.csv.zip')\n",
    "df.head()"
   ]
  },
  {
   "cell_type": "code",
   "execution_count": 3,
   "metadata": {},
   "outputs": [
    {
     "data": {
      "text/html": [
       "<div>\n",
       "<style scoped>\n",
       "    .dataframe tbody tr th:only-of-type {\n",
       "        vertical-align: middle;\n",
       "    }\n",
       "\n",
       "    .dataframe tbody tr th {\n",
       "        vertical-align: top;\n",
       "    }\n",
       "\n",
       "    .dataframe thead th {\n",
       "        text-align: right;\n",
       "    }\n",
       "</style>\n",
       "<table border=\"1\" class=\"dataframe\">\n",
       "  <thead>\n",
       "    <tr style=\"text-align: right;\">\n",
       "      <th></th>\n",
       "      <th>age</th>\n",
       "      <th>workclass</th>\n",
       "      <th>fnlwgt</th>\n",
       "      <th>education</th>\n",
       "      <th>educational_num</th>\n",
       "      <th>marital_status</th>\n",
       "      <th>occupation</th>\n",
       "      <th>relationship</th>\n",
       "      <th>race</th>\n",
       "      <th>gender</th>\n",
       "      <th>capital_gain</th>\n",
       "      <th>capital_loss</th>\n",
       "      <th>hours_per_week</th>\n",
       "      <th>native_country</th>\n",
       "      <th>income_label</th>\n",
       "    </tr>\n",
       "  </thead>\n",
       "  <tbody>\n",
       "    <tr>\n",
       "      <th>0</th>\n",
       "      <td>25</td>\n",
       "      <td>Private</td>\n",
       "      <td>226802</td>\n",
       "      <td>11th</td>\n",
       "      <td>7</td>\n",
       "      <td>Never-married</td>\n",
       "      <td>Machine-op-inspct</td>\n",
       "      <td>Own-child</td>\n",
       "      <td>Black</td>\n",
       "      <td>Male</td>\n",
       "      <td>0</td>\n",
       "      <td>0</td>\n",
       "      <td>40</td>\n",
       "      <td>United-States</td>\n",
       "      <td>0</td>\n",
       "    </tr>\n",
       "    <tr>\n",
       "      <th>1</th>\n",
       "      <td>38</td>\n",
       "      <td>Private</td>\n",
       "      <td>89814</td>\n",
       "      <td>HS-grad</td>\n",
       "      <td>9</td>\n",
       "      <td>Married-civ-spouse</td>\n",
       "      <td>Farming-fishing</td>\n",
       "      <td>Husband</td>\n",
       "      <td>White</td>\n",
       "      <td>Male</td>\n",
       "      <td>0</td>\n",
       "      <td>0</td>\n",
       "      <td>50</td>\n",
       "      <td>United-States</td>\n",
       "      <td>0</td>\n",
       "    </tr>\n",
       "    <tr>\n",
       "      <th>2</th>\n",
       "      <td>28</td>\n",
       "      <td>Local-gov</td>\n",
       "      <td>336951</td>\n",
       "      <td>Assoc-acdm</td>\n",
       "      <td>12</td>\n",
       "      <td>Married-civ-spouse</td>\n",
       "      <td>Protective-serv</td>\n",
       "      <td>Husband</td>\n",
       "      <td>White</td>\n",
       "      <td>Male</td>\n",
       "      <td>0</td>\n",
       "      <td>0</td>\n",
       "      <td>40</td>\n",
       "      <td>United-States</td>\n",
       "      <td>1</td>\n",
       "    </tr>\n",
       "    <tr>\n",
       "      <th>3</th>\n",
       "      <td>44</td>\n",
       "      <td>Private</td>\n",
       "      <td>160323</td>\n",
       "      <td>Some-college</td>\n",
       "      <td>10</td>\n",
       "      <td>Married-civ-spouse</td>\n",
       "      <td>Machine-op-inspct</td>\n",
       "      <td>Husband</td>\n",
       "      <td>Black</td>\n",
       "      <td>Male</td>\n",
       "      <td>7688</td>\n",
       "      <td>0</td>\n",
       "      <td>40</td>\n",
       "      <td>United-States</td>\n",
       "      <td>1</td>\n",
       "    </tr>\n",
       "    <tr>\n",
       "      <th>4</th>\n",
       "      <td>18</td>\n",
       "      <td>?</td>\n",
       "      <td>103497</td>\n",
       "      <td>Some-college</td>\n",
       "      <td>10</td>\n",
       "      <td>Never-married</td>\n",
       "      <td>?</td>\n",
       "      <td>Own-child</td>\n",
       "      <td>White</td>\n",
       "      <td>Female</td>\n",
       "      <td>0</td>\n",
       "      <td>0</td>\n",
       "      <td>30</td>\n",
       "      <td>United-States</td>\n",
       "      <td>0</td>\n",
       "    </tr>\n",
       "  </tbody>\n",
       "</table>\n",
       "</div>"
      ],
      "text/plain": [
       "   age  workclass  fnlwgt     education  educational_num      marital_status  \\\n",
       "0   25    Private  226802          11th                7       Never-married   \n",
       "1   38    Private   89814       HS-grad                9  Married-civ-spouse   \n",
       "2   28  Local-gov  336951    Assoc-acdm               12  Married-civ-spouse   \n",
       "3   44    Private  160323  Some-college               10  Married-civ-spouse   \n",
       "4   18          ?  103497  Some-college               10       Never-married   \n",
       "\n",
       "          occupation relationship   race  gender  capital_gain  capital_loss  \\\n",
       "0  Machine-op-inspct    Own-child  Black    Male             0             0   \n",
       "1    Farming-fishing      Husband  White    Male             0             0   \n",
       "2    Protective-serv      Husband  White    Male             0             0   \n",
       "3  Machine-op-inspct      Husband  Black    Male          7688             0   \n",
       "4                  ?    Own-child  White  Female             0             0   \n",
       "\n",
       "   hours_per_week native_country  income_label  \n",
       "0              40  United-States             0  \n",
       "1              50  United-States             0  \n",
       "2              40  United-States             1  \n",
       "3              40  United-States             1  \n",
       "4              30  United-States             0  "
      ]
     },
     "execution_count": 3,
     "metadata": {},
     "output_type": "execute_result"
    }
   ],
   "source": [
    "# For convenience, we'll replace '-' with '_'\n",
    "df.columns = [c.replace(\"-\", \"_\") for c in df.columns]\n",
    "#binary target\n",
    "df['income_label'] = (df[\"income\"].apply(lambda x: \">50K\" in x)).astype(int)\n",
    "df.drop('income', axis=1, inplace=True)\n",
    "df.head()"
   ]
  },
  {
   "cell_type": "markdown",
   "metadata": {},
   "source": [
    "### Preparing the data\n",
    "\n",
    "Have a look to notebooks one and two if you want to get a good understanding of the next few lines of code (although there is no need to use the package)"
   ]
  },
  {
   "cell_type": "code",
   "execution_count": 4,
   "metadata": {},
   "outputs": [],
   "source": [
    "wide_cols = ['education', 'relationship','workclass','occupation','native_country','gender']\n",
    "crossed_cols = [('education', 'occupation'), ('native_country', 'occupation')]\n",
    "cat_embed_cols = [('education',16), ('relationship',8), ('workclass',16), ('occupation',16),('native_country',16)]\n",
    "continuous_cols = [\"age\",\"hours_per_week\"]\n",
    "target_col = 'income_label'"
   ]
  },
  {
   "cell_type": "code",
   "execution_count": 5,
   "metadata": {},
   "outputs": [],
   "source": [
    "# TARGET\n",
    "target = df[target_col].values\n",
    "\n",
    "# WIDE\n",
    "wide_preprocessor = WidePreprocessor(wide_cols=wide_cols, crossed_cols=crossed_cols)\n",
    "X_wide = wide_preprocessor.fit_transform(df)\n",
    "\n",
    "# DEEP\n",
    "tab_preprocessor = TabPreprocessor(embed_cols=cat_embed_cols, continuous_cols=continuous_cols)\n",
    "X_tab = tab_preprocessor.fit_transform(df)"
   ]
  },
  {
   "cell_type": "code",
   "execution_count": 6,
   "metadata": {},
   "outputs": [
    {
     "name": "stdout",
     "output_type": "stream",
     "text": [
      "[[  1  17  23 ...  89  91 316]\n",
      " [  2  18  23 ...  89  92 317]\n",
      " [  3  18  24 ...  89  93 318]\n",
      " ...\n",
      " [  2  20  23 ...  90 103 323]\n",
      " [  2  17  23 ...  89 103 323]\n",
      " [  2  21  29 ...  90 115 324]]\n",
      "(48842, 8)\n"
     ]
    }
   ],
   "source": [
    "print(X_wide)\n",
    "print(X_wide.shape)"
   ]
  },
  {
   "cell_type": "code",
   "execution_count": 7,
   "metadata": {},
   "outputs": [
    {
     "name": "stdout",
     "output_type": "stream",
     "text": [
      "[[ 1.          1.          1.         ...  1.         -0.99512893\n",
      "  -0.03408696]\n",
      " [ 2.          2.          1.         ...  1.         -0.04694151\n",
      "   0.77292975]\n",
      " [ 3.          2.          2.         ...  1.         -0.77631645\n",
      "  -0.03408696]\n",
      " ...\n",
      " [ 2.          4.          1.         ...  1.          1.41180837\n",
      "  -0.03408696]\n",
      " [ 2.          1.          1.         ...  1.         -1.21394141\n",
      "  -1.64812038]\n",
      " [ 2.          5.          7.         ...  1.          0.97418341\n",
      "  -0.03408696]]\n",
      "(48842, 7)\n"
     ]
    }
   ],
   "source": [
    "print(X_tab)\n",
    "print(X_tab.shape)"
   ]
  },
  {
   "cell_type": "markdown",
   "metadata": {},
   "source": [
    "As you can see, you can run a wide and deep model in just a few lines of code\n",
    "\n",
    "Let's now see how to use `WideDeep` with varying parameters"
   ]
  },
  {
   "cell_type": "markdown",
   "metadata": {},
   "source": [
    "###  2.1 Dropout and Batchnorm"
   ]
  },
  {
   "cell_type": "code",
   "execution_count": 8,
   "metadata": {},
   "outputs": [],
   "source": [
    "?TabMlp"
   ]
  },
  {
   "cell_type": "code",
   "execution_count": 9,
   "metadata": {},
   "outputs": [],
   "source": [
    "wide = Wide(wide_dim=np.unique(X_wide).shape[0], pred_dim=1)\n",
    "# We can add dropout and batchnorm to the dense layers, as well as chose the order of the operations\n",
    "deeptabular = TabMlp(column_idx=tab_preprocessor.column_idx,\n",
    "                   mlp_hidden_dims=[64,32], \n",
    "                   mlp_dropout=[0.5, 0.5], \n",
    "                   mlp_batchnorm=True, \n",
    "                   mlp_linear_first = True,\n",
    "                   embed_input=tab_preprocessor.embeddings_input,\n",
    "                   continuous_cols=continuous_cols)\n",
    "model = WideDeep(wide=wide, deeptabular=deeptabular)"
   ]
  },
  {
   "cell_type": "code",
   "execution_count": 10,
   "metadata": {},
   "outputs": [
    {
     "data": {
      "text/plain": [
       "WideDeep(\n",
       "  (wide): Wide(\n",
       "    (wide_linear): Embedding(797, 1, padding_idx=0)\n",
       "  )\n",
       "  (deeptabular): Sequential(\n",
       "    (0): TabMlp(\n",
       "      (embed_layers): ModuleDict(\n",
       "        (emb_layer_education): Embedding(17, 16, padding_idx=0)\n",
       "        (emb_layer_native_country): Embedding(43, 16, padding_idx=0)\n",
       "        (emb_layer_occupation): Embedding(16, 16, padding_idx=0)\n",
       "        (emb_layer_relationship): Embedding(7, 8, padding_idx=0)\n",
       "        (emb_layer_workclass): Embedding(10, 16, padding_idx=0)\n",
       "      )\n",
       "      (embedding_dropout): Dropout(p=0.1, inplace=False)\n",
       "      (tab_mlp): MLP(\n",
       "        (mlp): Sequential(\n",
       "          (dense_layer_0): Sequential(\n",
       "            (0): Linear(in_features=74, out_features=64, bias=False)\n",
       "            (1): ReLU(inplace=True)\n",
       "            (2): BatchNorm1d(64, eps=1e-05, momentum=0.1, affine=True, track_running_stats=True)\n",
       "            (3): Dropout(p=0.5, inplace=False)\n",
       "          )\n",
       "          (dense_layer_1): Sequential(\n",
       "            (0): Linear(in_features=64, out_features=32, bias=True)\n",
       "            (1): ReLU(inplace=True)\n",
       "            (2): Dropout(p=0.5, inplace=False)\n",
       "          )\n",
       "        )\n",
       "      )\n",
       "    )\n",
       "    (1): Linear(in_features=32, out_features=1, bias=True)\n",
       "  )\n",
       ")"
      ]
     },
     "execution_count": 10,
     "metadata": {},
     "output_type": "execute_result"
    }
   ],
   "source": [
    "model"
   ]
  },
  {
   "cell_type": "markdown",
   "metadata": {},
   "source": [
    "We can use different initializers, optimizers and learning rate schedulers for each `branch` of the model"
   ]
  },
  {
   "cell_type": "markdown",
   "metadata": {},
   "source": [
    "###  Optimizers, LR schedulers, Initializers and Callbacks"
   ]
  },
  {
   "cell_type": "code",
   "execution_count": 11,
   "metadata": {},
   "outputs": [],
   "source": [
    "from pytorch_widedeep.initializers import KaimingNormal, XavierNormal\n",
    "from pytorch_widedeep.callbacks import ModelCheckpoint, LRHistory, EarlyStopping\n",
    "from pytorch_widedeep.optim import RAdam"
   ]
  },
  {
   "cell_type": "code",
   "execution_count": 12,
   "metadata": {},
   "outputs": [],
   "source": [
    "# Optimizers\n",
    "wide_opt = torch.optim.Adam(model.wide.parameters(), lr=0.03)\n",
    "deep_opt = RAdam(model.deeptabular.parameters(), lr=0.01)\n",
    "# LR Schedulers\n",
    "wide_sch = torch.optim.lr_scheduler.StepLR(wide_opt, step_size=3)\n",
    "deep_sch = torch.optim.lr_scheduler.StepLR(deep_opt, step_size=5)"
   ]
  },
  {
   "cell_type": "markdown",
   "metadata": {},
   "source": [
    "the component-dependent settings must be passed as dictionaries, while general settings are simply lists"
   ]
  },
  {
   "cell_type": "code",
   "execution_count": 13,
   "metadata": {},
   "outputs": [],
   "source": [
    "# Component-dependent settings as Dict\n",
    "optimizers = {'wide': wide_opt, 'deeptabular':deep_opt}\n",
    "schedulers = {'wide': wide_sch, 'deeptabular':deep_sch}\n",
    "initializers = {'wide': KaimingNormal, 'deeptabular':XavierNormal}\n",
    "# General settings as List\n",
    "callbacks = [LRHistory(n_epochs=10), EarlyStopping, ModelCheckpoint(filepath='model_weights/wd_out')]\n",
    "metrics = [Accuracy, Recall]"
   ]
  },
  {
   "cell_type": "code",
   "execution_count": 14,
   "metadata": {},
   "outputs": [],
   "source": [
    "trainer = Trainer(model, \n",
    "                  objective='binary', \n",
    "                  optimizers=optimizers, \n",
    "                  lr_schedulers=schedulers,\n",
    "                  initializers=initializers,\n",
    "                  callbacks=callbacks,\n",
    "                  metrics=metrics\n",
    "                 )"
   ]
  },
  {
   "cell_type": "code",
   "execution_count": 15,
   "metadata": {},
   "outputs": [
    {
     "name": "stderr",
     "output_type": "stream",
     "text": [
      "epoch 1: 100%|██████████| 153/153 [00:03<00:00, 47.06it/s, loss=0.667, metrics={'acc': 0.7471, 'rec': 0.4645}]\n",
      "valid: 100%|██████████| 39/39 [00:00<00:00, 109.05it/s, loss=0.384, metrics={'acc': 0.8328, 'rec': 0.5701}]\n",
      "epoch 2: 100%|██████████| 153/153 [00:03<00:00, 47.77it/s, loss=0.384, metrics={'acc': 0.8241, 'rec': 0.56}]  \n",
      "valid: 100%|██████████| 39/39 [00:00<00:00, 103.34it/s, loss=0.363, metrics={'acc': 0.8354, 'rec': 0.5838}]\n",
      "epoch 3: 100%|██████████| 153/153 [00:02<00:00, 51.60it/s, loss=0.359, metrics={'acc': 0.8338, 'rec': 0.5657}]\n",
      "valid: 100%|██████████| 39/39 [00:00<00:00, 116.99it/s, loss=0.357, metrics={'acc': 0.8365, 'rec': 0.5719}]\n",
      "epoch 4: 100%|██████████| 153/153 [00:03<00:00, 50.11it/s, loss=0.349, metrics={'acc': 0.8376, 'rec': 0.5608}]\n",
      "valid: 100%|██████████| 39/39 [00:00<00:00, 114.85it/s, loss=0.355, metrics={'acc': 0.8374, 'rec': 0.595}] \n",
      "epoch 5: 100%|██████████| 153/153 [00:03<00:00, 45.94it/s, loss=0.347, metrics={'acc': 0.8377, 'rec': 0.5624}]\n",
      "valid: 100%|██████████| 39/39 [00:00<00:00, 119.71it/s, loss=0.355, metrics={'acc': 0.8384, 'rec': 0.6091}]\n",
      "epoch 6: 100%|██████████| 153/153 [00:03<00:00, 47.17it/s, loss=0.346, metrics={'acc': 0.8377, 'rec': 0.5655}]\n",
      "valid: 100%|██████████| 39/39 [00:00<00:00, 122.04it/s, loss=0.352, metrics={'acc': 0.8403, 'rec': 0.589}] \n",
      "epoch 7: 100%|██████████| 153/153 [00:03<00:00, 50.84it/s, loss=0.344, metrics={'acc': 0.8402, 'rec': 0.573}] \n",
      "valid: 100%|██████████| 39/39 [00:00<00:00, 122.60it/s, loss=0.352, metrics={'acc': 0.8394, 'rec': 0.5796}]\n",
      "epoch 8: 100%|██████████| 153/153 [00:03<00:00, 47.53it/s, loss=0.343, metrics={'acc': 0.8393, 'rec': 0.5696}]\n",
      "valid: 100%|██████████| 39/39 [00:00<00:00, 112.23it/s, loss=0.352, metrics={'acc': 0.839, 'rec': 0.5808}] \n",
      "epoch 9: 100%|██████████| 153/153 [00:03<00:00, 45.08it/s, loss=0.343, metrics={'acc': 0.8405, 'rec': 0.5746}]\n",
      "valid: 100%|██████████| 39/39 [00:00<00:00, 81.40it/s, loss=0.351, metrics={'acc': 0.839, 'rec': 0.586}]  \n",
      "epoch 10: 100%|██████████| 153/153 [00:04<00:00, 34.82it/s, loss=0.343, metrics={'acc': 0.8408, 'rec': 0.5745}]\n",
      "valid: 100%|██████████| 39/39 [00:00<00:00, 96.99it/s, loss=0.351, metrics={'acc': 0.8387, 'rec': 0.5761}] \n"
     ]
    },
    {
     "name": "stdout",
     "output_type": "stream",
     "text": [
      "Model weights after training corresponds to the those of the final epoch which might not be the best performing weights. Usethe 'ModelCheckpoint' Callback to restore the best epoch weights.\n"
     ]
    }
   ],
   "source": [
    "trainer.fit(X_wide=X_wide, X_tab=X_tab, target=target, n_epochs=10, batch_size=256, val_split=0.2)"
   ]
  },
  {
   "cell_type": "markdown",
   "metadata": {},
   "source": [
    "You see that, among many methods and attributes we have the `history` and `lr_history` attributes"
   ]
  },
  {
   "cell_type": "code",
   "execution_count": 16,
   "metadata": {},
   "outputs": [
    {
     "name": "stdout",
     "output_type": "stream",
     "text": [
      "{'train_loss': [0.6669373385656893, 0.38398634666710896, 0.358561675727757, 0.3492486531438391, 0.3467087533349305, 0.34565913872001996, 0.3435389565096961, 0.3430960536782258, 0.34279162490289977, 0.34314920641238394], 'train_acc': [0.7471143756558237, 0.8241496685690887, 0.833849461264812, 0.8375604637473447, 0.837739615591329, 0.837739615591329, 0.8401709620454022, 0.8393007959460497, 0.8405036726128017, 0.8407596038184936], 'train_rec': [0.4645416736602783, 0.5599529147148132, 0.5657289624214172, 0.5608086585998535, 0.5624130964279175, 0.5655150413513184, 0.5730024576187134, 0.5695796608924866, 0.5746068954467773, 0.5744999647140503], 'val_loss': [0.3841508023249797, 0.36289690396724605, 0.35651543507209194, 0.3551729489595462, 0.3552632217223828, 0.35234999580261034, 0.3519755387917543, 0.3516103594731062, 0.3511298107795226, 0.35126262444716233], 'val_acc': [0.8328385709898659, 0.8353976865595251, 0.8365236974101751, 0.8374449790152523, 0.8383662606203296, 0.8403111884532706, 0.8393899068481933, 0.8389804483570478, 0.8389804483570478, 0.8386733544886887], 'val_rec': [0.5701454281806946, 0.583832323551178, 0.5718562602996826, 0.5949529409408569, 0.6090675592422485, 0.5889649391174316, 0.5795551538467407, 0.5808383226394653, 0.585970938205719, 0.5761334300041199]}\n"
     ]
    }
   ],
   "source": [
    "print(trainer.history)"
   ]
  },
  {
   "cell_type": "code",
   "execution_count": 17,
   "metadata": {},
   "outputs": [
    {
     "name": "stdout",
     "output_type": "stream",
     "text": [
      "{'lr_wide_0': [0.03, 0.03, 0.03, 0.003, 0.003, 0.003, 0.00030000000000000003, 0.00030000000000000003, 0.00030000000000000003, 3.0000000000000004e-05], 'lr_deeptabular_0': [0.01, 0.01, 0.01, 0.01, 0.01, 0.001, 0.001, 0.001, 0.001, 0.001]}\n"
     ]
    }
   ],
   "source": [
    "print(trainer.lr_history)"
   ]
  },
  {
   "cell_type": "markdown",
   "metadata": {},
   "source": [
    "We can see that the learning rate effectively decreases by a factor of 0.1 (the default) after the corresponding `step_size`. Note that the keys of the dictionary have a suffix `_0`. This is because if you pass different parameter groups to the torch optimizers, these will also be recorded. We'll see this in the `Regression` notebook. \n",
    "\n",
    "And I guess one has a good idea of how to use the package. Before we leave this notebook just mentioning that the `WideDeep` class comes with a useful method to \"rescue\" the learned embeddings. For example, let's say I want to use the embeddings learned for the different levels of the categorical feature `education`"
   ]
  },
  {
   "cell_type": "code",
   "execution_count": 18,
   "metadata": {},
   "outputs": [
    {
     "data": {
      "text/plain": [
       "{'11th': array([-0.33080965, -0.32130778,  0.19615164,  0.13556953,  0.14851215,\n",
       "         0.13719487, -0.16899936,  0.3414919 , -0.19812936, -0.04245757,\n",
       "         0.351975  ,  0.20050879,  0.31216618, -0.5121311 ,  0.43086612,\n",
       "         0.53559804], dtype=float32),\n",
       " 'HS-grad': array([-0.16151328,  0.23065983, -0.00747482,  0.12380929,  0.12916717,\n",
       "        -0.06022112, -0.10307326,  0.00917153,  0.08243465, -0.3448795 ,\n",
       "         0.11542231,  0.37100902, -0.06485075,  0.2418356 ,  0.05066948,\n",
       "        -0.22904117], dtype=float32),\n",
       " 'Assoc-acdm': array([ 0.15888667,  0.05965156, -0.07115431, -0.15109068, -0.10918076,\n",
       "        -0.05370647, -0.21373998,  0.30832142, -0.29594633,  0.20489004,\n",
       "         0.18331873,  0.18607427, -0.19573471, -0.10851611,  0.30840558,\n",
       "        -0.22811931], dtype=float32),\n",
       " 'Some-college': array([-0.28310186,  0.2633668 ,  0.21454443, -0.53031933, -0.28034252,\n",
       "        -0.2035272 , -0.09638138, -0.09200009, -0.04980965, -0.3110542 ,\n",
       "        -0.0603297 ,  0.07123059, -0.13342348,  0.08563767, -0.45675036,\n",
       "         0.11884805], dtype=float32),\n",
       " '10th': array([-0.12832558, -0.6697091 , -0.14748466, -0.0828823 ,  0.42625666,\n",
       "        -0.0548928 , -0.03520742, -0.29257616,  0.16213404, -0.10930534,\n",
       "         0.04222836, -0.02641041,  0.04289234, -0.21711953,  0.29988793,\n",
       "        -0.03914425], dtype=float32),\n",
       " 'Prof-school': array([-0.37946448, -0.33668968,  0.4209301 ,  0.01543873,  0.17252892,\n",
       "         0.30649292,  0.02050802,  0.11289834, -0.02656657, -0.24030082,\n",
       "        -0.32401893,  0.1216528 ,  0.01666113,  0.09014473, -0.06262966,\n",
       "        -0.04359816], dtype=float32),\n",
       " '7th-8th': array([-0.16373637, -0.48016912,  0.7061354 , -0.02272724, -0.3922257 ,\n",
       "         0.09848034, -0.07539301, -0.03332449,  0.36090446, -0.29780784,\n",
       "         0.2516029 ,  0.02890976,  0.26914543,  0.22876695, -0.29285768,\n",
       "        -0.3230711 ], dtype=float32),\n",
       " 'Bachelors': array([ 0.02716259,  0.01603995,  0.11296882,  0.09937789, -0.15349191,\n",
       "         0.36589023, -0.22568569, -0.06556027,  0.03241782, -0.03301224,\n",
       "        -0.15650426,  0.33991587, -0.08569644, -0.0560803 , -0.22597635,\n",
       "        -0.08900049], dtype=float32),\n",
       " 'Masters': array([ 0.20437175, -0.10703096, -0.06892612,  0.34738615, -0.11776404,\n",
       "        -0.38715032,  0.10983769,  0.39286137, -0.43856898,  0.23008673,\n",
       "         0.08582868,  0.11090949, -0.2212543 , -0.1813675 , -0.34878278,\n",
       "        -0.06638747], dtype=float32),\n",
       " 'Doctorate': array([-0.36630204, -0.03157847, -0.21379165, -0.3201302 , -0.18573532,\n",
       "        -0.48710173,  0.3539162 , -0.26378518, -0.22426853, -0.00657644,\n",
       "         0.11982051,  0.44674066,  0.02232701,  0.2919437 , -0.05375196,\n",
       "        -0.16767474], dtype=float32),\n",
       " '5th-6th': array([ 0.23281994, -0.43167526,  0.0894226 , -0.11401146,  0.02560319,\n",
       "        -0.19197138,  0.43012407, -0.26886204,  0.17845912,  0.36679146,\n",
       "        -0.23775795,  0.22599484, -0.03654391,  0.14109942,  0.21356976,\n",
       "         0.09289707], dtype=float32),\n",
       " 'Assoc-voc': array([-0.33012867,  0.03091485,  0.0463426 , -0.26056498,  0.14094928,\n",
       "         0.07926508,  0.23741004, -0.1044822 ,  0.2198133 ,  0.0026662 ,\n",
       "        -0.20316987, -0.5384259 ,  0.2922033 , -0.1975719 , -0.34955254,\n",
       "         0.4160792 ], dtype=float32),\n",
       " '9th': array([-0.5900627 ,  0.05397911, -0.08968943,  0.01747594,  0.02829137,\n",
       "        -0.35849443, -0.3720297 ,  0.3774286 ,  0.41263312,  0.43744153,\n",
       "        -0.52274925, -0.32064512,  0.3371732 ,  0.08183856, -0.35107607,\n",
       "        -0.01041517], dtype=float32),\n",
       " '12th': array([ 0.25146627,  0.25219554,  0.02975183,  0.05702514, -0.24613279,\n",
       "        -0.21778086, -0.00569818, -0.0637485 , -0.1616422 , -0.30637848,\n",
       "         0.12083519, -0.14571959, -0.16722937, -0.15352033, -0.4982682 ,\n",
       "        -0.28606132], dtype=float32),\n",
       " '1st-4th': array([ 0.39057913,  0.25798413, -0.4903637 , -0.59042794, -0.02872112,\n",
       "         0.03271537,  0.3033741 ,  0.18191384, -0.0404124 ,  0.17591539,\n",
       "         0.09823196,  0.09790152,  0.1655496 ,  0.2734208 ,  0.10942121,\n",
       "         0.11239085], dtype=float32),\n",
       " 'Preschool': array([-0.1641325 , -0.25642204, -0.14070551,  0.51633525, -0.04863334,\n",
       "        -0.5472205 ,  0.21776134,  0.08466767,  0.167773  , -0.22240794,\n",
       "         0.08511946,  0.19921534,  0.6440741 ,  0.34729373,  0.43439448,\n",
       "        -0.4937917 ], dtype=float32)}"
      ]
     },
     "execution_count": 18,
     "metadata": {},
     "output_type": "execute_result"
    }
   ],
   "source": [
    "trainer.get_embeddings(col_name='education', cat_encoding_dict=tab_preprocessor.label_encoder.encoding_dict)"
   ]
  }
 ],
 "metadata": {
  "kernelspec": {
   "display_name": "Python 3",
   "language": "python",
   "name": "python3"
  },
  "language_info": {
   "codemirror_mode": {
    "name": "ipython",
    "version": 3
   },
   "file_extension": ".py",
   "mimetype": "text/x-python",
   "name": "python",
   "nbconvert_exporter": "python",
   "pygments_lexer": "ipython3",
   "version": "3.8.6"
  }
 },
 "nbformat": 4,
 "nbformat_minor": 4
}
